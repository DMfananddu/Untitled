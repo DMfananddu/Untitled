{
 "cells": [
  {
   "cell_type": "code",
   "execution_count": 105,
   "metadata": {},
   "outputs": [],
   "source": [
    "from requests import get\n",
    "from xml.etree.ElementTree import fromstring, ElementTree as ET\n",
    "\n",
    "URL = \"http://www.cbr.ru/scripts/XML_daily.asp\"\n",
    "ValuteName = \"Гонконгских долларов\""
   ]
  },
  {
   "cell_type": "code",
   "execution_count": 109,
   "metadata": {},
   "outputs": [],
   "source": [
    "xml_data = list(ET(fromstring(get(URL).content)).getroot()) # документ-результат запроса данных по ссылке из Анкеты\n",
    "#xml_data # данные по валютам"
   ]
  },
  {
   "cell_type": "code",
   "execution_count": 110,
   "metadata": {},
   "outputs": [],
   "source": [
    "def findValuteCurse(valutes, valuteName):\n",
    "    for valute in xml_data:\n",
    "#         print(\"-\" * 40)\n",
    "        attributes = list(valute)\n",
    "        for attr in attributes:\n",
    "            if attr.tag == \"Name\" and attr.text == valuteName:\n",
    "                for attr in attributes:\n",
    "#                     print(\"%s=%s\" % (attr.tag, attr.text))\n",
    "                    if attr.tag == \"Nominal\":\n",
    "                        result_Nominal = float(attr.text)\n",
    "                    if attr.tag == \"Value\":\n",
    "                        result_Value = float((attr.text).replace(\",\", \".\"))\n",
    "#                 print(\"-\" * 40)\n",
    "                print(\"%f Рублей == 1 Гонконгскому доллару.\" % (result_Value/result_Nominal))"
   ]
  },
  {
   "cell_type": "code",
   "execution_count": 111,
   "metadata": {
    "scrolled": true
   },
   "outputs": [
    {
     "name": "stdout",
     "output_type": "stream",
     "text": [
      "9.088260 Рублей == 1 Гонконгскому доллару.\n"
     ]
    }
   ],
   "source": [
    "findValuteCurse(xml_data, ValuteName)"
   ]
  },
  {
   "cell_type": "code",
   "execution_count": null,
   "metadata": {},
   "outputs": [],
   "source": []
  }
 ],
 "metadata": {
  "kernelspec": {
   "display_name": "Python 3",
   "language": "python",
   "name": "python3"
  },
  "language_info": {
   "codemirror_mode": {
    "name": "ipython",
    "version": 3
   },
   "file_extension": ".py",
   "mimetype": "text/x-python",
   "name": "python",
   "nbconvert_exporter": "python",
   "pygments_lexer": "ipython3",
   "version": "3.7.1"
  }
 },
 "nbformat": 4,
 "nbformat_minor": 2
}
